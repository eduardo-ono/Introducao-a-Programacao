{
 "cells": [
  {
   "cell_type": "markdown",
   "metadata": {},
   "source": [
    "<h1 align=\"center\">Teorema Fundamental da Aritmética</h1>\n",
    "\n",
    "<h4 align=\"center\">Prof. Eduardo Ono</h4>\n",
    "\n",
    "&nbsp;"
   ]
  },
  {
   "cell_type": "markdown",
   "metadata": {},
   "source": [
    "&nbsp;&nbsp;&nbsp;&nbsp;&nbsp;&nbsp;&nbsp;&nbsp;O Teorema Fundamental da Aritmética diz que:\n",
    "\n",
    "\"Todo número natural maior que 1 ou é primo ou pode ser escrito como produto em que todos os fatores são primos”."
   ]
  },
  {
   "cell_type": "markdown",
   "metadata": {},
   "source": [
    "$$ 11 = 1 \\times 11 \\text((primo)) $$ \n",
    "\n",
    "$$ 60 = 2 \\times 2 \\times 3 \\times 5 = 2^2 \\times 3 \\times 5 $$"
   ]
  }
 ],
 "metadata": {
  "kernelspec": {
   "display_name": "Python 3.9.13 ('base')",
   "language": "python",
   "name": "python3"
  },
  "language_info": {
   "name": "python",
   "version": "3.9.13"
  },
  "orig_nbformat": 4,
  "vscode": {
   "interpreter": {
    "hash": "6ca436f98112c699fca53176ca9b2af64a577e7d8248f3b63a91e306eedca64e"
   }
  }
 },
 "nbformat": 4,
 "nbformat_minor": 2
}
